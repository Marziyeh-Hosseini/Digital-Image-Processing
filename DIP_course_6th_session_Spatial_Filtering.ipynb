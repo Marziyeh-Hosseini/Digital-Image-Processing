{
  "nbformat": 4,
  "nbformat_minor": 0,
  "metadata": {
    "colab": {
      "name": "DIP course - 6th session - Spatial Filtering.ipynb",
      "provenance": [],
      "collapsed_sections": [],
      "authorship_tag": "ABX9TyNZf7DrcxrnGVI88PsKTyVP",
      "include_colab_link": true
    },
    "kernelspec": {
      "name": "python3",
      "display_name": "Python 3"
    }
  },
  "cells": [
    {
      "cell_type": "markdown",
      "metadata": {
        "id": "view-in-github",
        "colab_type": "text"
      },
      "source": [
        "<a href=\"https://colab.research.google.com/github/Seyed-Ali-Ahmadi/Digital-Image-Processing/blob/master/DIP_course_6th_session_Spatial_Filtering.ipynb\" target=\"_parent\"><img src=\"https://colab.research.google.com/assets/colab-badge.svg\" alt=\"Open In Colab\"/></a>"
      ]
    },
    {
      "cell_type": "markdown",
      "metadata": {
        "id": "1dpBCN5KQAip",
        "colab_type": "text"
      },
      "source": [
        "[Some parts of this session are based on this tutorial.](https://www.geeksforgeeks.org/spatial-filtering-and-its-types/)"
      ]
    },
    {
      "cell_type": "markdown",
      "metadata": {
        "id": "0v4GNMIsHmlg",
        "colab_type": "text"
      },
      "source": [
        "# Spatial Filtering\n",
        "\n",
        "**Spatial Filtering** technique is used directly on pixels of an image. Mask is usually considered to be added in size so that it has specific center pixel. This mask is moved on the image such that the center of the mask traverses all image pixels.\n",
        "\n",
        "1. Linear Spatial Filter\n",
        "2. Non-linear Spatial Filter\n",
        "\n",
        "![Image filtering 1](https://ars.els-cdn.com/content/image/3-s2.0-B9780128014141000041-f04-03-9780128014141.jpg)\n"
      ]
    },
    {
      "cell_type": "markdown",
      "metadata": {
        "id": "9AYMj2BVOm9M",
        "colab_type": "text"
      },
      "source": [
        "**Smoothing Spatial Filter:** Smoothing filter is used for blurring and noise reduction in the image. Blurring is pre-processing steps for removal of small details and Noise Reduction is accomplished by blurring.\n",
        "\n",
        "Types of Smoothing Spatial Filter:\n",
        "\n",
        "1. Linear Filter (Mean Filter)\n",
        "2. Order Statistics (Non-linear) filter \n",
        "\n",
        "These are explained as following below.\n",
        "\n",
        "**Mean Filter:**\n",
        "\n",
        "Linear spatial filter is simply the average of the pixels contained in the neighborhood of the filter mask. The idea is replacing the value of every pixel in an image by the average of the grey levels in the neighborhood define by the filter mask.\n",
        "\n",
        "Types of Mean filter:\n",
        "\n",
        "> *(i) Averaging filter:* It is used in reduction of the detail in image. All coefficients are equal.\n",
        "\n",
        "![Averaging](https://i.stack.imgur.com/4TGrs.png)\n",
        "\n",
        "\n",
        "> *(ii) Weighted averaging filter:* In this, pixels are multiplied by different coefficients. Center pixel is multiplied by a higher value than average filter.\n",
        "\n",
        "\n",
        "**Order Statistics Filter:**\n",
        "\n",
        "It is based on the ordering the pixels contained in the image area encompassed by the filter. It replaces the value of the center pixel with the value determined by the ranking result. Edges are better preserved in this filtering.\n",
        "\n",
        "Types of Order statistics filter:\n",
        "\n",
        "> *(i) Minimum filter:* 0th percentile filter is the minimum filter. The value of the center is replaced by the smallest value in the window.\n",
        "\n",
        "> *(ii) Maximum filter:* 100th percentile filter is the maximum filter. The value of the center is replaced by the largest value in the window.\n",
        "\n",
        "> *(iii) Median filter:* Each pixel in the image is considered. First neighboring pixels are sorted and original values of the pixel is replaced by the median of the list."
      ]
    },
    {
      "cell_type": "markdown",
      "metadata": {
        "id": "yUroDEXrS8Bp",
        "colab_type": "text"
      },
      "source": [
        "## Image Convolution\n",
        "\n",
        "![image convolution gif](https://upload.wikimedia.org/wikipedia/commons/6/6a/Convolution_of_box_signal_with_itself2.gif)\n",
        "\n",
        "\n",
        "**How one performs convolution on an image?**\n",
        "\n",
        "\n",
        "![Convolution of image](http://deeplearning.net/software/theano/_images/same_padding_no_strides_transposed.gif)\n",
        "\n",
        "And how do the values are computed? Here is an example...\n",
        "\n",
        "![Convolution of image, arithmetics](https://miro.medium.com/max/1400/1*O06nY1U7zoP4vE5AZEnxKA.gif)"
      ]
    },
    {
      "cell_type": "markdown",
      "metadata": {
        "id": "hDfmHgUkSZrK",
        "colab_type": "text"
      },
      "source": [
        "What if the image is multi-channel?\n",
        "\n",
        "So, the kernel would also be a multi-channel kernel, and the convolution will occur on all channels. This is how it is demostrated.\n",
        "\n",
        "![multi-channel convolution](https://static.wixstatic.com/media/d77a32_33b30b2cb7594a74962635f625fcd5f5~mv2.png/v1/fill/w_159,h_230,al_c,q_85,usm_0.66_1.00_0.01/1_NsiYxt8tPDQyjyH3C08PVA_2x.webp)\n",
        "\n",
        "Now, look at how it moves in animation:\n",
        "\n",
        "![Multi-channel convolution](https://lh4.googleusercontent.com/YLAIo_FvooqiS6OIJtlhwVbGR33PbTRXMykYADYz_zXlCutsn6znaAuDuIC5FXgUodCiP_SmI9o0k2qJTdheVxiO7hhK9Y2kjCAg7j4r1-lhb0ALGGiZq4gvivViz5k7HtCFITVI)\n",
        "\n",
        "\n",
        "![image sharpening](https://i.stack.imgur.com/YDusp.png)\n",
        "\n"
      ]
    }
  ]
}